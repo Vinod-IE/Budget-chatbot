{
  "nbformat": 4,
  "nbformat_minor": 0,
  "metadata": {
    "colab": {
      "provenance": [],
      "gpuType": "T4",
      "authorship_tag": "ABX9TyOSIRUasts87iTzdqsn6yCn",
      "include_colab_link": true
    },
    "kernelspec": {
      "name": "python3",
      "display_name": "Python 3"
    },
    "language_info": {
      "name": "python"
    },
    "accelerator": "GPU"
  },
  "cells": [
    {
      "cell_type": "markdown",
      "metadata": {
        "id": "view-in-github",
        "colab_type": "text"
      },
      "source": [
        "<a href=\"https://colab.research.google.com/github/Vinod-IE/Budget-chatbot/blob/main/Multi-RAG-Vinod.ipynb\" target=\"_parent\"><img src=\"https://colab.research.google.com/assets/colab-badge.svg\" alt=\"Open In Colab\"/></a>"
      ]
    },
    {
      "cell_type": "code",
      "execution_count": 1,
      "metadata": {
        "id": "K8Oq8EQKXn2D"
      },
      "outputs": [],
      "source": [
        "%%capture\n",
        "!pip install \"openai>=1\" \"langchain>=0.0331rc2\" \"unstructured[all-docs]\" pillow pydantic lxml pillow matplotlib chromadb tiktoken watermark"
      ]
    },
    {
      "cell_type": "code",
      "source": [
        "%%capture\n",
        "!sudo apt-get install poppler-utils tesseract-ocr"
      ],
      "metadata": {
        "id": "9slB5dvrYPR7"
      },
      "execution_count": 2,
      "outputs": []
    },
    {
      "cell_type": "code",
      "source": [
        "%load_ext watermark\n",
        "%watermark -a \"vinod\" -vmp langchain,unstructured,openai"
      ],
      "metadata": {
        "id": "w1s4AehKYqv2"
      },
      "execution_count": null,
      "outputs": []
    }
  ]
}